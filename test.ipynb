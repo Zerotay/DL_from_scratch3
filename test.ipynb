{
 "cells": [
  {
   "cell_type": "code",
   "execution_count": 1,
   "metadata": {},
   "outputs": [],
   "source": [
    "import numpy as np\n",
    "from src.basic import Variable, Square, Exp\n",
    "from src.basic import numerical_diff, square, exp"
   ]
  },
  {
   "cell_type": "code",
   "execution_count": 2,
   "metadata": {},
   "outputs": [
    {
     "name": "stdout",
     "output_type": "stream",
     "text": [
      "9\n"
     ]
    }
   ],
   "source": [
    "# step 2\n",
    "\n",
    "x = np.array(3)\n",
    "x = Variable(x)\n",
    "f = Square()\n",
    "\n",
    "print(f(x).data)"
   ]
  },
  {
   "cell_type": "code",
   "execution_count": 3,
   "metadata": {},
   "outputs": [
    {
     "name": "stdout",
     "output_type": "stream",
     "text": [
      "1.648721270700128\n"
     ]
    }
   ],
   "source": [
    "# step 3\n",
    "\n",
    "f_a = Square()\n",
    "f_b = Exp()\n",
    "f_c = Square()\n",
    "\n",
    "x = Variable(np.array(0.5))\n",
    "a = f_a(x)\n",
    "b = f_b(a)\n",
    "y = f_c(b)\n",
    "\n",
    "print(y.data)"
   ]
  },
  {
   "cell_type": "code",
   "execution_count": 4,
   "metadata": {},
   "outputs": [
    {
     "name": "stdout",
     "output_type": "stream",
     "text": [
      "4.000000000004\n",
      "수치미분: 7.389056111253289 | 도함수미분: 7.38905609893065\n",
      "수치미분: 3.2974426293330694 | 도함수미분: 3.297442541400256\n"
     ]
    }
   ],
   "source": [
    "# step 4\n",
    "\n",
    "f = Square()\n",
    "x = Variable(np.array(2))\n",
    "print(numerical_diff(f, x))\n",
    "\n",
    "f = Exp()\n",
    "print('수치미분:', numerical_diff(f, x), '| 도함수미분:', f(x).data)\n",
    "\n",
    "def f(x: Variable):\n",
    "    f_a = Square()\n",
    "    f_b = Exp()\n",
    "    f_c = Square()\n",
    "    return f_c(f_b(f_a(x)))\n",
    "\n",
    "x = Variable(np.array(0.5))\n",
    "dy = numerical_diff(f, x)\n",
    "print('수치미분:', dy, '| 도함수미분:', (2*0.5) * (np.exp(0.5**2)) * (2*np.exp(0.5**2))) # 손미분 -> 도함수 -> 오차역전파"
   ]
  },
  {
   "cell_type": "code",
   "execution_count": null,
   "metadata": {},
   "outputs": [],
   "source": []
  },
  {
   "cell_type": "code",
   "execution_count": 5,
   "metadata": {},
   "outputs": [
    {
     "name": "stdout",
     "output_type": "stream",
     "text": [
      "3.297442541400256\n"
     ]
    }
   ],
   "source": [
    "# step 5 -> 이론\n",
    "# step 6\n",
    "\n",
    "f_a = Square()\n",
    "f_b = Exp()\n",
    "f_c = Square()\n",
    "\n",
    "x = Variable(np.array(0.5))\n",
    "a = f_a(x)\n",
    "b = f_b(a)\n",
    "y = f_c(b)\n",
    "\n",
    "y.grad = np.array(1.0)\n",
    "b.grad = f_c.backward(y.grad) # dy/db -> dy/db * dy/dy\n",
    "a.grad = f_b.backward(b.grad) # dy/da -> db/da * dy/db(b.grad)\n",
    "x.grad = f_a.backward(a.grad)\n",
    "print(x.grad)"
   ]
  },
  {
   "cell_type": "code",
   "execution_count": 6,
   "metadata": {},
   "outputs": [
    {
     "name": "stdout",
     "output_type": "stream",
     "text": [
      "3.297442541400256\n"
     ]
    }
   ],
   "source": [
    "# step 7\n",
    "f_a = Square()\n",
    "f_b = Exp()\n",
    "f_c = Square()\n",
    "\n",
    "x = Variable(np.array(0.5))\n",
    "a = f_a(x)\n",
    "b = f_b(a)\n",
    "y = f_c(b)\n",
    "\n",
    "assert y.creator == f_c\n",
    "assert y.creator.input == b\n",
    "\n",
    "y.grad = np.array(1.0)\n",
    "y.backward()\n",
    "print(x.grad)"
   ]
  },
  {
   "cell_type": "code",
   "execution_count": 7,
   "metadata": {},
   "outputs": [
    {
     "name": "stdout",
     "output_type": "stream",
     "text": [
      "3.297442541400256\n"
     ]
    }
   ],
   "source": [
    "# step 8 # 반복문으로\n",
    "f_a = Square()\n",
    "f_b = Exp()\n",
    "f_c = Square()\n",
    "\n",
    "x = Variable(np.array(0.5))\n",
    "a = f_a(x)\n",
    "b = f_b(a)\n",
    "y = f_c(b)\n",
    "\n",
    "assert y.creator == f_c\n",
    "assert y.creator.input == b\n",
    "\n",
    "y.grad = np.array(1.0)\n",
    "y.backward()\n",
    "print(x.grad)"
   ]
  },
  {
   "cell_type": "code",
   "execution_count": 8,
   "metadata": {},
   "outputs": [
    {
     "name": "stdout",
     "output_type": "stream",
     "text": [
      "3.297442541400256\n",
      "3.297442541400256\n",
      "3.297442541400256\n"
     ]
    },
    {
     "data": {
      "text/plain": [
       "numpy.float64"
      ]
     },
     "execution_count": 8,
     "metadata": {},
     "output_type": "execute_result"
    }
   ],
   "source": [
    "# step 9\n",
    "\n",
    "x = Variable(np.array(0.5))\n",
    "a = square(x)\n",
    "b = exp(a)\n",
    "y = square(b)\n",
    "\n",
    "y.grad = np.array(1.0)\n",
    "y.backward()\n",
    "print(x.grad)\n",
    "\n",
    "\n",
    "# style 2\n",
    "x = Variable(np.array(0.5))\n",
    "y = square(exp(square(x)))\n",
    "y.grad = np.array(1.0)\n",
    "y.backward()\n",
    "print(x.grad)\n",
    "\n",
    "# grad = 1.0 안하도록\n",
    "x = Variable(np.array(0.5))\n",
    "y = square(exp(square(x)))\n",
    "y.backward()\n",
    "print(x.grad)\n",
    "\n",
    "# only ndarray\n",
    "# x = Variable(3)\n",
    "type(np.exp(np.array(1.0)))"
   ]
  },
  {
   "cell_type": "code",
   "execution_count": 9,
   "metadata": {},
   "outputs": [],
   "source": [
    "# step 10\n",
    "# TESTs"
   ]
  },
  {
   "cell_type": "code",
   "execution_count": null,
   "metadata": {},
   "outputs": [],
   "source": []
  }
 ],
 "metadata": {
  "kernelspec": {
   "display_name": "boostcamp",
   "language": "python",
   "name": "boostcamp"
  },
  "language_info": {
   "codemirror_mode": {
    "name": "ipython",
    "version": 3
   },
   "file_extension": ".py",
   "mimetype": "text/x-python",
   "name": "python",
   "nbconvert_exporter": "python",
   "pygments_lexer": "ipython3",
   "version": "3.8.10"
  },
  "orig_nbformat": 4,
  "vscode": {
   "interpreter": {
    "hash": "31f2aee4e71d21fbe5cf8b01ff0e069b9275f58929596ceb00d14d90e3e16cd6"
   }
  }
 },
 "nbformat": 4,
 "nbformat_minor": 2
}
